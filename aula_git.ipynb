{
  "nbformat": 4,
  "nbformat_minor": 0,
  "metadata": {
    "colab": {
      "provenance": [],
      "authorship_tag": "ABX9TyMHfnN0mbED+pW+I2TcM4tn",
      "include_colab_link": true
    },
    "kernelspec": {
      "name": "python3",
      "display_name": "Python 3"
    },
    "language_info": {
      "name": "python"
    }
  },
  "cells": [
    {
      "cell_type": "markdown",
      "metadata": {
        "id": "view-in-github",
        "colab_type": "text"
      },
      "source": [
        "<a href=\"https://colab.research.google.com/github/michelcs0808/eu-repositorio-/blob/main/aula_git.ipynb\" target=\"_parent\"><img src=\"https://colab.research.google.com/assets/colab-badge.svg\" alt=\"Open In Colab\"/></a>"
      ]
    },
    {
      "cell_type": "code",
      "execution_count": null,
      "metadata": {
        "id": "GThIxSaS0M-F"
      },
      "outputs": [],
      "source": [
        "#como fazer um calculo utilizando input\n",
        "n1 = float(input(\"Digite um valor: \"))\n",
        "n2 = float(input(\"Digite um valor: \"))\n",
        "soma = n1 + n2\n",
        "print(\"Resultado: \",soma:"
      ]
    },
    {
      "cell_type": "code",
      "source": [
        "#Escreva um programa que peça ao usuário para inserir seu nome e depois imprima uma mensagem de saudação usando o nome fornecido:\n",
        "nome = input(\"Digite seu nome: \")\n",
        "#print(\"Olá,\", nome, \"!\")\n",
        "print(\"Olá %s !\" % (nome))"
      ],
      "metadata": {
        "id": "3rbA4l3N3q6b"
      },
      "execution_count": null,
      "outputs": []
    }
  ]
}